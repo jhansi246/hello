{
  "nbformat": 4,
  "nbformat_minor": 0,
  "metadata": {
    "colab": {
      "name": "Untitled8.ipynb",
      "provenance": [],
      "collapsed_sections": [],
      "authorship_tag": "ABX9TyNOiLmr4cw1w42Kcc+olF2s",
      "include_colab_link": true
    },
    "kernelspec": {
      "name": "python3",
      "display_name": "Python 3"
    },
    "language_info": {
      "name": "python"
    }
  },
  "cells": [
    {
      "cell_type": "markdown",
      "metadata": {
        "id": "view-in-github",
        "colab_type": "text"
      },
      "source": [
        "<a href=\"https://colab.research.google.com/github/jhansi246/hello/blob/main/Untitled8.ipynb\" target=\"_parent\"><img src=\"https://colab.research.google.com/assets/colab-badge.svg\" alt=\"Open In Colab\"/></a>"
      ]
    },
    {
      "cell_type": "code",
      "execution_count": null,
      "metadata": {
        "colab": {
          "base_uri": "https://localhost:8080/"
        },
        "id": "pHMqMxNGXp9F",
        "outputId": "58d95e3c-8ff3-4a81-9a20-46d051fb2620"
      },
      "outputs": [
        {
          "output_type": "stream",
          "name": "stdout",
          "text": [
            "Original DataFrames:\n",
            "  student_id              name  marks\n",
            "0         S1  Danniella Fenton    200\n",
            "1         S2      Ryder Storey    210\n",
            "2         S3      Bryce Jensen    190\n",
            "3         S4         Ed Bernal    222\n",
            "4         S5       Kwame Morin    199\n",
            "-------------------------------------\n",
            "  student_id              name  marks\n",
            "0         S4  Scarlette Fisher    201\n",
            "1         S5  Carla Williamson    200\n",
            "2         S6       Dante Morse    198\n",
            "3         S7    Kaiser William    219\n",
            "4         S8   Madeeha Preston    201\n",
            "\n",
            "Join the said two dataframes along rows:\n",
            "  student_id              name  marks\n",
            "0         S1  Danniella Fenton    200\n",
            "1         S2      Ryder Storey    210\n",
            "2         S3      Bryce Jensen    190\n",
            "3         S4         Ed Bernal    222\n",
            "4         S5       Kwame Morin    199\n",
            "0         S4  Scarlette Fisher    201\n",
            "1         S5  Carla Williamson    200\n",
            "2         S6       Dante Morse    198\n",
            "3         S7    Kaiser William    219\n",
            "4         S8   Madeeha Preston    201\n"
          ]
        }
      ],
      "source": [
        "import pandas as pd\n",
        "\n",
        "student_data1 = pd.DataFrame({\n",
        "        'student_id': ['S1', 'S2', 'S3', 'S4', 'S5'],\n",
        "         'name': ['Danniella Fenton', 'Ryder Storey', 'Bryce Jensen', 'Ed Bernal', 'Kwame Morin'], \n",
        "        'marks': [200, 210, 190, 222, 199]})\n",
        "\n",
        "student_data2 = pd.DataFrame({\n",
        "        'student_id': ['S4', 'S5', 'S6', 'S7', 'S8'],\n",
        "        'name': ['Scarlette Fisher', 'Carla Williamson', 'Dante Morse', 'Kaiser William', 'Madeeha Preston'], \n",
        "        'marks': [201, 200, 198, 219, 201]})\n",
        "\n",
        "print(\"Original DataFrames:\")\n",
        "print(student_data1)\n",
        "print(\"-------------------------------------\")\n",
        "print(student_data2)\n",
        "print(\"\\nJoin the said two dataframes along rows:\")\n",
        "result_data = pd.concat([student_data1, student_data2])\n",
        "print(result_data)"
      ]
    },
    {
      "cell_type": "markdown",
      "source": [
        "6.experiment"
      ],
      "metadata": {
        "id": "NC6NSDOHX3VU"
      }
    },
    {
      "cell_type": "code",
      "source": [
        "import pandas as pd\n",
        "student_data1  = pd.DataFrame({\n",
        "        'student_id': ['S1', 'S2', 'S3', 'S4', 'S5'],\n",
        "         'name': ['Danniella Fenton', 'Ryder Storey', 'Bryce Jensen', 'Ed Bernal', 'Kwame Morin'], \n",
        "        'marks': [200, 210, 190, 222, 199]})\n",
        "\n",
        "s6 = pd.Series(['S6', 'Scarlette Fisher', 205], index=['student_id', 'name', 'marks'])\n",
        "\n",
        "\n",
        "dicts = [{'student_id': 'S6', 'name': 'Scarlette Fisher', 'marks': 203},\n",
        "         {'student_id': 'S7', 'name': 'Bryce Jensen', 'marks': 207}]\n",
        "\n",
        "print(\"Original DataFrames:\")\n",
        "print(student_data1)\n",
        "print(\"\\nDictionary:\")\n",
        "print(s6)\n",
        "combined_data =  student_data1.append(dicts, ignore_index=True, sort=False)\n",
        "print(\"\\nCombined Data:\")\n",
        "print(combined_data)"
      ],
      "metadata": {
        "colab": {
          "base_uri": "https://localhost:8080/"
        },
        "id": "NOgs5I0yX9xO",
        "outputId": "8d2b8e15-e91c-477a-d9ae-0f817e500e10"
      },
      "execution_count": null,
      "outputs": [
        {
          "output_type": "stream",
          "name": "stdout",
          "text": [
            "Original DataFrames:\n",
            "  student_id              name  marks\n",
            "0         S1  Danniella Fenton    200\n",
            "1         S2      Ryder Storey    210\n",
            "2         S3      Bryce Jensen    190\n",
            "3         S4         Ed Bernal    222\n",
            "4         S5       Kwame Morin    199\n",
            "\n",
            "Dictionary:\n",
            "student_id                  S6\n",
            "name          Scarlette Fisher\n",
            "marks                      205\n",
            "dtype: object\n",
            "\n",
            "Combined Data:\n",
            "  student_id              name  marks\n",
            "0         S1  Danniella Fenton    200\n",
            "1         S2      Ryder Storey    210\n",
            "2         S3      Bryce Jensen    190\n",
            "3         S4         Ed Bernal    222\n",
            "4         S5       Kwame Morin    199\n",
            "5         S6  Scarlette Fisher    203\n",
            "6         S7      Bryce Jensen    207\n"
          ]
        }
      ]
    },
    {
      "cell_type": "code",
      "source": [
        "import pandas as pd\n",
        "s=pd.Series([10,20,30])\n",
        "print(s)"
      ],
      "metadata": {
        "id": "ZbHGRF7EYPf9",
        "colab": {
          "base_uri": "https://localhost:8080/"
        },
        "outputId": "501aec01-9ee6-44be-ce10-2eb42f09b318"
      },
      "execution_count": 5,
      "outputs": [
        {
          "output_type": "stream",
          "name": "stdout",
          "text": [
            "0    10\n",
            "1    20\n",
            "2    30\n",
            "dtype: int64\n"
          ]
        }
      ]
    },
    {
      "cell_type": "code",
      "source": [
        "import pandas as pd\n",
        "s2=pd.Series([\"janu\",\"abhi\",\"vinee\",\"sanju\"],index=[585,'5a3',\"5c1\",\"5b7\"])\n",
        "print(s2)\n"
      ],
      "metadata": {
        "colab": {
          "base_uri": "https://localhost:8080/"
        },
        "id": "bxjZ3K4zmABL",
        "outputId": "936ac82b-435a-42c7-f10d-2c25df394b49"
      },
      "execution_count": 9,
      "outputs": [
        {
          "output_type": "stream",
          "name": "stdout",
          "text": [
            "585     janu\n",
            "5a3     abhi\n",
            "5c1    vinee\n",
            "5b7    sanju\n",
            "dtype: object\n"
          ]
        }
      ]
    },
    {
      "cell_type": "code",
      "source": [
        "import pandas as pd\n",
        "series2=pd.Series([2,3,4],index=[\"feb\",\"mar\",\"apr\"])\n",
        "print(series2)"
      ],
      "metadata": {
        "colab": {
          "base_uri": "https://localhost:8080/"
        },
        "id": "iZlp1l3xm5Vi",
        "outputId": "6c836dc6-b678-4489-a565-348829a07477"
      },
      "execution_count": 7,
      "outputs": [
        {
          "output_type": "stream",
          "name": "stdout",
          "text": [
            "feb    2\n",
            "mar    3\n",
            "apr    4\n",
            "dtype: int64\n"
          ]
        }
      ]
    },
    {
      "cell_type": "code",
      "source": [
        "import numpy as np\n",
        "import pandas as pd\n",
        "array1=np.arange(10,20)\n",
        "series3=pd.Series(array1)\n",
        "print(series3)"
      ],
      "metadata": {
        "colab": {
          "base_uri": "https://localhost:8080/"
        },
        "id": "hbs8Ovppny5C",
        "outputId": "33836312-a223-4156-82e1-509c2890b14a"
      },
      "execution_count": 12,
      "outputs": [
        {
          "output_type": "stream",
          "name": "stdout",
          "text": [
            "0    10\n",
            "1    11\n",
            "2    12\n",
            "3    13\n",
            "4    14\n",
            "5    15\n",
            "6    16\n",
            "7    17\n",
            "8    18\n",
            "9    19\n",
            "dtype: int64\n"
          ]
        }
      ]
    },
    {
      "cell_type": "code",
      "source": [
        "import numpy as np\n",
        "import pandas as pd\n",
        "array1=np.array([10,20,30])\n",
        "series3=pd.Series(array1,index=[\"abhi\",\"janu\",\"chand\"])\n",
        "print(series3)"
      ],
      "metadata": {
        "colab": {
          "base_uri": "https://localhost:8080/"
        },
        "id": "1Z3ds7j6okzh",
        "outputId": "0e6d8275-8953-4aa2-a5f4-8a6f2f59aba2"
      },
      "execution_count": 14,
      "outputs": [
        {
          "output_type": "stream",
          "name": "stdout",
          "text": [
            "abhi     10\n",
            "janu     20\n",
            "chand    30\n",
            "dtype: int64\n"
          ]
        }
      ]
    },
    {
      "cell_type": "code",
      "source": [
        "import pandas as pd\n",
        "dict1={\"india\":\"newdelhi\",\"uk\":\"london\"}\n",
        "print(dict1)\n",
        "s=pd.Series(dict1)\n",
        "print(s)"
      ],
      "metadata": {
        "colab": {
          "base_uri": "https://localhost:8080/"
        },
        "id": "imjGgkPkotlI",
        "outputId": "40c88b11-a85c-4dfa-d0a5-375a324724fd"
      },
      "execution_count": 16,
      "outputs": [
        {
          "output_type": "stream",
          "name": "stdout",
          "text": [
            "{'india': 'newdelhi', 'uk': 'london'}\n",
            "india    newdelhi\n",
            "uk         london\n",
            "dtype: object\n"
          ]
        }
      ]
    },
    {
      "cell_type": "code",
      "source": [
        "import pandas as pd\n",
        "seriesnum=pd.Series([2,3,6],index=[\"feb\",\"mar\",\"jun\"])\n",
        "print(seriesnum[\"mar\"])"
      ],
      "metadata": {
        "colab": {
          "base_uri": "https://localhost:8080/"
        },
        "id": "aU4P3itzqTCw",
        "outputId": "a64d6a09-a393-445f-8f43-f92b06d9a6e1"
      },
      "execution_count": 20,
      "outputs": [
        {
          "output_type": "stream",
          "name": "stdout",
          "text": [
            "3\n"
          ]
        }
      ]
    },
    {
      "cell_type": "code",
      "source": [
        "import pandas as pd\n",
        "m=pd.Series([1,2,3])\n",
        "m[[0,2]]"
      ],
      "metadata": {
        "colab": {
          "base_uri": "https://localhost:8080/"
        },
        "id": "d0FQq0bvrFuw",
        "outputId": "488f8ecd-2da1-4345-a4cc-57368535d75c"
      },
      "execution_count": 22,
      "outputs": [
        {
          "output_type": "execute_result",
          "data": {
            "text/plain": [
              "0    1\n",
              "2    3\n",
              "dtype: int64"
            ]
          },
          "metadata": {},
          "execution_count": 22
        }
      ]
    },
    {
      "cell_type": "code",
      "source": [
        "import pandas as pd\n",
        "c=pd.Series(['new','wash','don','par'],index=['ind','usa','uk','fran'])\n",
        "c[::-1]\n",
        "c[0:3]"
      ],
      "metadata": {
        "colab": {
          "base_uri": "https://localhost:8080/"
        },
        "id": "V_j4N0rTsqiB",
        "outputId": "58840270-042f-4e43-ab99-5eebbf7d4c91"
      },
      "execution_count": 29,
      "outputs": [
        {
          "output_type": "execute_result",
          "data": {
            "text/plain": [
              "ind     new\n",
              "usa    wash\n",
              "uk      don\n",
              "dtype: object"
            ]
          },
          "metadata": {},
          "execution_count": 29
        }
      ]
    },
    {
      "cell_type": "code",
      "source": [
        "import pandas as pd\n",
        "c.name='capitals'\n",
        "c.index.name='capitals'\n",
        "print(c)\n",
        "print(c.values)"
      ],
      "metadata": {
        "colab": {
          "base_uri": "https://localhost:8080/"
        },
        "id": "1Kud7RLDuU8u",
        "outputId": "fe502b8e-091a-4d52-cf18-7e12f97d98cb"
      },
      "execution_count": 34,
      "outputs": [
        {
          "output_type": "stream",
          "name": "stdout",
          "text": [
            "capitals\n",
            "ind      new\n",
            "usa     wash\n",
            "uk       don\n",
            "fran     par\n",
            "Name: capitals, dtype: object\n",
            "['new' 'wash' 'don' 'par']\n"
          ]
        }
      ]
    },
    {
      "cell_type": "code",
      "source": [
        "import pandas as pd\n",
        "sA=pd.Series([1,2,3,4,5])\n",
        "index=['a','b','c','d','e']\n",
        "sB=pd.Series([1000,2000,-1000,-4000,4500])\n",
        "index=['a','b','c','d','e']\n",
        "sC=pd.Series([10,20,30,-40,50])\n",
        "index=['r','y','a','b','e']\n",
        "df=pd.DataFrame(sA,sB,sC)\n",
        "df"
      ],
      "metadata": {
        "colab": {
          "base_uri": "https://localhost:8080/",
          "height": 363
        },
        "id": "RJRhfJdvvKoG",
        "outputId": "1a743e90-41dd-4b24-a270-7b0a3b6904a1"
      },
      "execution_count": 45,
      "outputs": [
        {
          "output_type": "error",
          "ename": "ValueError",
          "evalue": "ignored",
          "traceback": [
            "\u001b[0;31m---------------------------------------------------------------------------\u001b[0m",
            "\u001b[0;31mValueError\u001b[0m                                Traceback (most recent call last)",
            "\u001b[0;32m<ipython-input-45-9943cfe9f971>\u001b[0m in \u001b[0;36m<module>\u001b[0;34m()\u001b[0m\n\u001b[1;32m      6\u001b[0m \u001b[0msC\u001b[0m\u001b[0;34m=\u001b[0m\u001b[0mpd\u001b[0m\u001b[0;34m.\u001b[0m\u001b[0mSeries\u001b[0m\u001b[0;34m(\u001b[0m\u001b[0;34m[\u001b[0m\u001b[0;36m10\u001b[0m\u001b[0;34m,\u001b[0m\u001b[0;36m20\u001b[0m\u001b[0;34m,\u001b[0m\u001b[0;36m30\u001b[0m\u001b[0;34m,\u001b[0m\u001b[0;34m-\u001b[0m\u001b[0;36m40\u001b[0m\u001b[0;34m,\u001b[0m\u001b[0;36m50\u001b[0m\u001b[0;34m]\u001b[0m\u001b[0;34m)\u001b[0m\u001b[0;34m\u001b[0m\u001b[0;34m\u001b[0m\u001b[0m\n\u001b[1;32m      7\u001b[0m \u001b[0mindex\u001b[0m\u001b[0;34m=\u001b[0m\u001b[0;34m[\u001b[0m\u001b[0;34m'r'\u001b[0m\u001b[0;34m,\u001b[0m\u001b[0;34m'y'\u001b[0m\u001b[0;34m,\u001b[0m\u001b[0;34m'a'\u001b[0m\u001b[0;34m,\u001b[0m\u001b[0;34m'b'\u001b[0m\u001b[0;34m,\u001b[0m\u001b[0;34m'e'\u001b[0m\u001b[0;34m]\u001b[0m\u001b[0;34m\u001b[0m\u001b[0;34m\u001b[0m\u001b[0m\n\u001b[0;32m----> 8\u001b[0;31m \u001b[0mdf\u001b[0m\u001b[0;34m=\u001b[0m\u001b[0mpd\u001b[0m\u001b[0;34m.\u001b[0m\u001b[0mDataFrame\u001b[0m\u001b[0;34m(\u001b[0m\u001b[0msA\u001b[0m\u001b[0;34m,\u001b[0m\u001b[0msB\u001b[0m\u001b[0;34m,\u001b[0m\u001b[0msC\u001b[0m\u001b[0;34m)\u001b[0m\u001b[0;34m\u001b[0m\u001b[0;34m\u001b[0m\u001b[0m\n\u001b[0m\u001b[1;32m      9\u001b[0m \u001b[0mdf\u001b[0m\u001b[0;34m\u001b[0m\u001b[0;34m\u001b[0m\u001b[0m\n",
            "\u001b[0;32m/usr/local/lib/python3.7/dist-packages/pandas/core/frame.py\u001b[0m in \u001b[0;36m__init__\u001b[0;34m(self, data, index, columns, dtype, copy)\u001b[0m\n\u001b[1;32m    676\u001b[0m                     \u001b[0mdtype\u001b[0m\u001b[0;34m=\u001b[0m\u001b[0mdtype\u001b[0m\u001b[0;34m,\u001b[0m\u001b[0;34m\u001b[0m\u001b[0;34m\u001b[0m\u001b[0m\n\u001b[1;32m    677\u001b[0m                     \u001b[0mcopy\u001b[0m\u001b[0;34m=\u001b[0m\u001b[0mcopy\u001b[0m\u001b[0;34m,\u001b[0m\u001b[0;34m\u001b[0m\u001b[0;34m\u001b[0m\u001b[0m\n\u001b[0;32m--> 678\u001b[0;31m                     \u001b[0mtyp\u001b[0m\u001b[0;34m=\u001b[0m\u001b[0mmanager\u001b[0m\u001b[0;34m,\u001b[0m\u001b[0;34m\u001b[0m\u001b[0;34m\u001b[0m\u001b[0m\n\u001b[0m\u001b[1;32m    679\u001b[0m                 )\n\u001b[1;32m    680\u001b[0m \u001b[0;34m\u001b[0m\u001b[0m\n",
            "\u001b[0;32m/usr/local/lib/python3.7/dist-packages/pandas/core/internals/construction.py\u001b[0m in \u001b[0;36mndarray_to_mgr\u001b[0;34m(values, index, columns, dtype, copy, typ)\u001b[0m\n\u001b[1;32m    322\u001b[0m     )\n\u001b[1;32m    323\u001b[0m \u001b[0;34m\u001b[0m\u001b[0m\n\u001b[0;32m--> 324\u001b[0;31m     \u001b[0m_check_values_indices_shape_match\u001b[0m\u001b[0;34m(\u001b[0m\u001b[0mvalues\u001b[0m\u001b[0;34m,\u001b[0m \u001b[0mindex\u001b[0m\u001b[0;34m,\u001b[0m \u001b[0mcolumns\u001b[0m\u001b[0;34m)\u001b[0m\u001b[0;34m\u001b[0m\u001b[0;34m\u001b[0m\u001b[0m\n\u001b[0m\u001b[1;32m    325\u001b[0m \u001b[0;34m\u001b[0m\u001b[0m\n\u001b[1;32m    326\u001b[0m     \u001b[0;32mif\u001b[0m \u001b[0mtyp\u001b[0m \u001b[0;34m==\u001b[0m \u001b[0;34m\"array\"\u001b[0m\u001b[0;34m:\u001b[0m\u001b[0;34m\u001b[0m\u001b[0;34m\u001b[0m\u001b[0m\n",
            "\u001b[0;32m/usr/local/lib/python3.7/dist-packages/pandas/core/internals/construction.py\u001b[0m in \u001b[0;36m_check_values_indices_shape_match\u001b[0;34m(values, index, columns)\u001b[0m\n\u001b[1;32m    391\u001b[0m         \u001b[0mpassed\u001b[0m \u001b[0;34m=\u001b[0m \u001b[0mvalues\u001b[0m\u001b[0;34m.\u001b[0m\u001b[0mshape\u001b[0m\u001b[0;34m\u001b[0m\u001b[0;34m\u001b[0m\u001b[0m\n\u001b[1;32m    392\u001b[0m         \u001b[0mimplied\u001b[0m \u001b[0;34m=\u001b[0m \u001b[0;34m(\u001b[0m\u001b[0mlen\u001b[0m\u001b[0;34m(\u001b[0m\u001b[0mindex\u001b[0m\u001b[0;34m)\u001b[0m\u001b[0;34m,\u001b[0m \u001b[0mlen\u001b[0m\u001b[0;34m(\u001b[0m\u001b[0mcolumns\u001b[0m\u001b[0;34m)\u001b[0m\u001b[0;34m)\u001b[0m\u001b[0;34m\u001b[0m\u001b[0;34m\u001b[0m\u001b[0m\n\u001b[0;32m--> 393\u001b[0;31m         \u001b[0;32mraise\u001b[0m \u001b[0mValueError\u001b[0m\u001b[0;34m(\u001b[0m\u001b[0;34mf\"Shape of passed values is {passed}, indices imply {implied}\"\u001b[0m\u001b[0;34m)\u001b[0m\u001b[0;34m\u001b[0m\u001b[0;34m\u001b[0m\u001b[0m\n\u001b[0m\u001b[1;32m    394\u001b[0m \u001b[0;34m\u001b[0m\u001b[0m\n\u001b[1;32m    395\u001b[0m \u001b[0;34m\u001b[0m\u001b[0m\n",
            "\u001b[0;31mValueError\u001b[0m: Shape of passed values is (5, 1), indices imply (5, 5)"
          ]
        }
      ]
    }
  ]
}